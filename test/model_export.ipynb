{
 "cells": [
  {
   "cell_type": "code",
   "execution_count": 3,
   "metadata": {},
   "outputs": [
    {
     "name": "stdout",
     "output_type": "stream",
     "text": [
      "Ultralytics YOLOv8.2.79  Python-3.11.4 torch-2.3.1+cpu CPU (12th Gen Intel Core(TM) i7-12700H)\n",
      "Model summary (fused): 168 layers, 3,006,038 parameters, 0 gradients, 8.1 GFLOPs\n",
      "\n",
      "\u001b[34m\u001b[1mPyTorch:\u001b[0m starting from 'C:\\Users\\perso\\Documents\\chicken_counting_rpi\\model\\ChickenCounterV4.pt' with input shape (1, 3, 640, 640) BCHW and output shape(s) (1, 6, 8400) (6.0 MB)\n",
      "\n",
      "\u001b[34m\u001b[1mTorchScript:\u001b[0m starting export with torch 2.3.1+cpu...\n",
      "\u001b[34m\u001b[1mTorchScript:\u001b[0m export success  2.3s, saved as 'C:\\Users\\perso\\Documents\\chicken_counting_rpi\\model\\ChickenCounterV4.torchscript' (11.9 MB)\n",
      "\n",
      "\u001b[34m\u001b[1mNCNN:\u001b[0m starting export with NCNN 1.0.20240820...\n",
      "\u001b[34m\u001b[1mNCNN:\u001b[0m running 'C:\\Users\\perso\\Documents\\chicken_counting_rpi\\Lib\\site-packages\\ultralytics\\pnnx.exe C:\\Users\\perso\\Documents\\chicken_counting_rpi\\model\\ChickenCounterV4.torchscript ncnnparam=C:\\Users\\perso\\Documents\\chicken_counting_rpi\\model\\ChickenCounterV4_ncnn_model\\model.ncnn.param ncnnbin=C:\\Users\\perso\\Documents\\chicken_counting_rpi\\model\\ChickenCounterV4_ncnn_model\\model.ncnn.bin ncnnpy=C:\\Users\\perso\\Documents\\chicken_counting_rpi\\model\\ChickenCounterV4_ncnn_model\\model_ncnn.py pnnxparam=C:\\Users\\perso\\Documents\\chicken_counting_rpi\\model\\ChickenCounterV4_ncnn_model\\model.pnnx.param pnnxbin=C:\\Users\\perso\\Documents\\chicken_counting_rpi\\model\\ChickenCounterV4_ncnn_model\\model.pnnx.bin pnnxpy=C:\\Users\\perso\\Documents\\chicken_counting_rpi\\model\\ChickenCounterV4_ncnn_model\\model_pnnx.py pnnxonnx=C:\\Users\\perso\\Documents\\chicken_counting_rpi\\model\\ChickenCounterV4_ncnn_model\\model.pnnx.onnx fp16=0 device=cpu inputshape=\"[1, 3, 640, 640]\"'\n",
      "\u001b[34m\u001b[1mNCNN:\u001b[0m export success  2.8s, saved as 'C:\\Users\\perso\\Documents\\chicken_counting_rpi\\model\\ChickenCounterV4_ncnn_model' (11.6 MB)\n",
      "\n",
      "Export complete (9.3s)\n",
      "Results saved to \u001b[1mC:\\Users\\perso\\Documents\\chicken_counting_rpi\\model\u001b[0m\n",
      "Predict:         yolo predict task=detect model=C:\\Users\\perso\\Documents\\chicken_counting_rpi\\model\\ChickenCounterV4_ncnn_model imgsz=640  \n",
      "Validate:        yolo val task=detect model=C:\\Users\\perso\\Documents\\chicken_counting_rpi\\model\\ChickenCounterV4_ncnn_model imgsz=640 data=C:\\Users\\perso\\Documents\\Ravelware\\ObjectCountCV\\data.yaml  \n",
      "Visualize:       https://netron.app\n"
     ]
    },
    {
     "data": {
      "text/plain": [
       "'C:\\\\Users\\\\perso\\\\Documents\\\\chicken_counting_rpi\\\\model\\\\ChickenCounterV4_ncnn_model'"
      ]
     },
     "execution_count": 3,
     "metadata": {},
     "output_type": "execute_result"
    }
   ],
   "source": [
    "from ultralytics import YOLO\n",
    "\n",
    "model = YOLO(\"C:\\\\Users\\perso\\Documents\\chicken_counting_rpi\\model\\ChickenCounterV4.pt\")\n",
    "model.export(format = 'ncnn')"
   ]
  }
 ],
 "metadata": {
  "kernelspec": {
   "display_name": "chicken_counting_rpi",
   "language": "python",
   "name": "python3"
  },
  "language_info": {
   "codemirror_mode": {
    "name": "ipython",
    "version": 3
   },
   "file_extension": ".py",
   "mimetype": "text/x-python",
   "name": "python",
   "nbconvert_exporter": "python",
   "pygments_lexer": "ipython3",
   "version": "3.11.4"
  }
 },
 "nbformat": 4,
 "nbformat_minor": 2
}
